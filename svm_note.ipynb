{
 "cells": [
  {
   "cell_type": "markdown",
   "metadata": {},
   "source": [
    "### 1. SVM Hinge Loss Definition"
   ]
  },
  {
   "cell_type": "markdown",
   "metadata": {},
   "source": [
    "Hinge loss is defined as follows:\n",
    "<br><br>\n",
    "\\begin{equation}\n",
    "    L_{i} = \\sum_{j \\neq y_{i}} = \\max(0, s_{j} - s_{y_{i}} + \\Delta)\n",
    "\\end{equation}\n",
    "<br><br>\n",
    "$\\Delta$ is a margin value (it is an optimization hyperparameter). $s_{j}$ and $s_{y_{i}}$ are $j$th and $y_{i}$th class scores respectively for training example $x_{i}$. The class scores are computed with dot products $w_{j}^{T}x_{i}$ and $w_{y_{i}}^{T}x_{i}$.\n",
    "<br><br>\n",
    "The total loss to be minimized can be written as:\n",
    "<br><br>\n",
    "\\begin{equation}\n",
    "    L = \\frac{1}{N}\\sum_{i}^{N}L_{i} + \\frac{1}{2}\\lambda\\|W\\|_{2}^{2}\n",
    "\\end{equation}\n",
    "<br><br>\n",
    "where $\\lambda$ is a regularization hyperparameter and $\\frac{1}{2}$ is a constant for clean gradient computation. Intuitively, SVM wants score, $s_{y_{i}}=w_{y_{i}}^{T}x_{i}$ of the correct class $y_{i}$ to be greater than any other classes by at least the margin $\\Delta$."
   ]
  },
  {
   "cell_type": "markdown",
   "metadata": {},
   "source": [
    "### 2. Computing the gradient of Hinge Loss (Unvectorized ver.)"
   ]
  },
  {
   "cell_type": "markdown",
   "metadata": {},
   "source": [
    "In order to compute the gradient of the loss function w.r.t $W$, we start off with the loss for each individual training sample $x_{i}$:<br><br>\n",
    "\\begin{equation}\n",
    "    L_{i} = \\sum_{j \\neq y_{i}} = \\max(0, w_{j}^{T}x_{i} - w_{y_{i}}^{T}x_{i} + \\Delta)\n",
    "\\end{equation}"
   ]
  },
  {
   "cell_type": "code",
   "execution_count": null,
   "metadata": {},
   "outputs": [],
   "source": []
  }
 ],
 "metadata": {
  "kernelspec": {
   "display_name": "Python 3",
   "language": "python",
   "name": "python3"
  },
  "language_info": {
   "codemirror_mode": {
    "name": "ipython",
    "version": 3
   },
   "file_extension": ".py",
   "mimetype": "text/x-python",
   "name": "python",
   "nbconvert_exporter": "python",
   "pygments_lexer": "ipython3",
   "version": "3.6.3"
  }
 },
 "nbformat": 4,
 "nbformat_minor": 2
}
